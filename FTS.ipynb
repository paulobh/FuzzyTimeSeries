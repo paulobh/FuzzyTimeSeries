{
 "cells": [
  {
   "cell_type": "markdown",
   "metadata": {},
   "source": [
    "# Estudo Comparativo de Modelos de Séries Temporais Nebulosas"
   ]
  },
  {
   "cell_type": "markdown",
   "metadata": {},
   "source": [
    "[<img src=\"https://licensebuttons.net/l/by-nc-sa/3.0/88x31.png\">](https://creativecommons.org/licenses/by-nc-sa/4.0/legalcode)\n",
    "\n",
    "\n",
    "### Programa de Pós Graduação em Engenharia Elétrica - PPGEE\n",
    "### Disciplina de Sistemas Nebulosos\n",
    "\n",
    "Professor: André Paim Lemos\n",
    "\n",
    "Autores: Leonardo Ferreira (leauferreira@gmail.com) e Petrônio Silva (petronio.candido@gmail.com)\n",
    "\n",
    "* [Revisão De Literatura](https://www.overleaf.com/read/rqqctmpzgsnt)\n",
    "* [Apresentação](https://www.overleaf.com/read/hnhzmgfgbndv)\n",
    "\n",
    "\n",
    "## Índice\n",
    "\n",
    "1. [Importações Comuns](#Importações-Comuns)\n",
    "2. [Dados de Treinamento e Validação](#Dados-de-Treinamento-e-Validação)\n",
    "3. [Códigos Comuns](#Códigos-Comuns)\n",
    "   1. [Funções de Pertinência](#Funções-de-Pertinência)\n",
    "   2. [Conjuntos Nebulosos](#Conjuntos-Nebulosos)\n",
    "   3. [Particionadores do Universo de Discurso](#Particionadores-do-Universo-de-Discurso)\n",
    "3. [First Order Fuzzy Time Series](#First-Order-Fuzzy-Time-Series)\n",
    "   1. [Fuzzy Logical Relationship Groups - FLRG](#Fuzzy-Logical-Relationship-Groups---FLRG)\n",
    "   2. [Classe Princial - FTS](#Classe-Princial---FTS)\n",
    "   3. [Testes](#Testes)\n",
    "4. [High Order Fuzzy Time Series](#High-Order-Fuzzy-Time-Series)\n",
    "5. [Weighted Fuzzy Time Series]()\n",
    "6. [Comparação entre os modelos]()\n",
    "7. [Referências](#References)"
   ]
  },
  {
   "cell_type": "markdown",
   "metadata": {},
   "source": [
    "# Importações Comuns"
   ]
  },
  {
   "cell_type": "code",
   "execution_count": 5,
   "metadata": {
    "collapsed": false
   },
   "outputs": [
    {
     "name": "stdout",
     "output_type": "stream",
     "text": [
      "Populating the interactive namespace from numpy and matplotlib\n"
     ]
    }
   ],
   "source": [
    "import numpy as np\n",
    "import pandas as pd\n",
    "import matplotlib as plt\n",
    "import matplotlib.pyplot as plt\n",
    "%pylab inline"
   ]
  },
  {
   "cell_type": "markdown",
   "metadata": {},
   "source": [
    "# Dados de Treinamento e Validação"
   ]
  },
  {
   "cell_type": "markdown",
   "metadata": {},
   "source": [
    "### University Of Alabama Enrollments\n",
    "\n",
    "O dataset abaixo foi retirado do artigo \\cite{song1993fuzzy}"
   ]
  },
  {
   "cell_type": "code",
   "execution_count": 6,
   "metadata": {
    "collapsed": false
   },
   "outputs": [
    {
     "data": {
      "text/plain": [
       "[<matplotlib.lines.Line2D at 0xab2a0f4c>]"
      ]
     },
     "execution_count": 6,
     "metadata": {},
     "output_type": "execute_result"
    },
    {
     "data": {
      "image/png": "[encoded data removed]",
      "text/plain": [
       "<matplotlib.figure.Figure at 0xab37174c>"
      ]
     },
     "metadata": {},
     "output_type": "display_data"
    }
   ],
   "source": [
    "enrollments = pd.read_csv(\"/home/petronio/dados/Dropbox/Doutorado/Disciplinas/SistemasNebulosos/TrabalhoFinal/DataSets/Enrollments.csv\", sep=\";\")\n",
    "\n",
    "plot(enrollments[\"Enrollments\"])"
   ]
  },
  {
   "cell_type": "markdown",
   "metadata": {},
   "source": [
    "### TAIEX - Taiwan Stock Exchange Index\n",
    "\n",
    "O dataset foi provido por \\cite{taiex}"
   ]
  },
  {
   "cell_type": "markdown",
   "metadata": {},
   "source": [
    "# Códigos Comuns"
   ]
  },
  {
   "cell_type": "markdown",
   "metadata": {},
   "source": [
    "### Funções de Pertinência"
   ]
  },
  {
   "cell_type": "code",
   "execution_count": 7,
   "metadata": {
    "collapsed": true
   },
   "outputs": [],
   "source": [
    "def trimf(x,parameters):\n",
    "\tif(x < parameters[0]):\n",
    "\t\treturn 0\n",
    "\telif(x >= parameters[0] and x < parameters[1]):\n",
    "\t\treturn (x-parameters[0])/(parameters[1]-parameters[0])\n",
    "\telif(x >= parameters[1] and x <= parameters[2]):\n",
    "\t\treturn (parameters[2]-x)/(parameters[2]-parameters[1])\n",
    "\telse: \n",
    "\t\treturn 0\n",
    "\n",
    "def trapmf(x, parameters):\n",
    "\t\tif(x < parameters[0]):\n",
    "\t\t\treturn 0\n",
    "\t\telif(x >= parameters[0] and x < parameters[1]):\n",
    "\t\t\treturn (x-parameters[0])/(parameters[1]-parameters[0])\n",
    "\t\telif(x >= parameters[1] and x <= parameters[2]):\n",
    "\t\t\treturn 1\n",
    "\t\telif(x >= parameters[2] and x <= parameters[3]):\n",
    "\t\t\treturn (parameters[3]-x)/(parameters[3]-parameters[2])\n",
    "\t\telse: \n",
    "\t\t\treturn 0\n",
    "\n",
    "def gaussmf(x,parameters):\n",
    "\t\treturn math.exp(-0.5*((x-parameters[0]) / parameters[1] )**2)\n",
    "\n",
    "\n",
    "def bellmf(x,parameters):\n",
    "\t\treturn 1 / (1 + abs((xx - parameters[2])/parameters[0])**(2*parameters[1]))\n",
    "\n",
    "\n",
    "def sigmf(x,parameters):\n",
    "\t\treturn 1 / (1 + math.exp(-parameters[0] * (x - parameters[1])))\n"
   ]
  },
  {
   "cell_type": "markdown",
   "metadata": {},
   "source": [
    "### Conjuntos Nebulosos"
   ]
  },
  {
   "cell_type": "code",
   "execution_count": 8,
   "metadata": {
    "collapsed": false
   },
   "outputs": [],
   "source": [
    "class FuzzySet:\n",
    "\n",
    "\tdef __init__(self,name,mf,parameters,centroid):\n",
    "\t\tself.name = name\n",
    "\t\tself.mf = mf\n",
    "\t\tself.parameters = parameters\n",
    "\t\tself.centroid = centroid\n",
    "        \n",
    "\tdef membership(self,x):\n",
    "\t\treturn self.mf(x,self.parameters)\n",
    "    \n",
    "\tdef __str__(self):\n",
    "\t\treturn self.name + \": \" + str(self.mf) + \"(\" + str(self.parameters) + \")\"\n",
    "    \n",
    "    "
   ]
  },
  {
   "cell_type": "markdown",
   "metadata": {},
   "source": [
    "### Particionadores do Universo de Discurso"
   ]
  },
  {
   "cell_type": "code",
   "execution_count": 9,
   "metadata": {
    "collapsed": true
   },
   "outputs": [],
   "source": [
    "def GridPartitionerTrimf(data,npart,names = None,prefix = \"A\"):\n",
    "\tsets = []\n",
    "\tdmax = max(data)\n",
    "\tdmin = min(data)\n",
    "\tdlen = dmax - dmin\n",
    "\tpartlen = dlen / npart\n",
    "\tpartition = dmin\n",
    "\tfor c in range(npart):\n",
    "\t\tsets.append( FuzzySet(prefix+str(c),trimf,[partition-partlen, partition, partition+partlen], partition ) )\n",
    "\t\tpartition = partition + partlen\n",
    "\t\t\n",
    "\treturn sets"
   ]
  },
  {
   "cell_type": "code",
   "execution_count": 10,
   "metadata": {
    "collapsed": false
   },
   "outputs": [
    {
     "name": "stdout",
     "output_type": "stream",
     "text": [
      "A0: <function trimf at 0xb488e92c>([12426.799999999999, 13055, 13683.200000000001])\n",
      "A1: <function trimf at 0xb488e92c>([13055.0, 13683.200000000001, 14311.400000000001])\n",
      "A2: <function trimf at 0xb488e92c>([13683.200000000001, 14311.400000000001, 14939.600000000002])\n",
      "A3: <function trimf at 0xb488e92c>([14311.400000000001, 14939.600000000002, 15567.800000000003])\n",
      "A4: <function trimf at 0xb488e92c>([14939.600000000002, 15567.800000000003, 16196.000000000004])\n",
      "A5: <function trimf at 0xb488e92c>([15567.800000000003, 16196.000000000004, 16824.200000000004])\n",
      "A6: <function trimf at 0xb488e92c>([16196.000000000004, 16824.200000000004, 17452.400000000005])\n",
      "A7: <function trimf at 0xb488e92c>([16824.200000000004, 17452.400000000005, 18080.600000000006])\n",
      "A8: <function trimf at 0xb488e92c>([17452.400000000005, 18080.600000000006, 18708.800000000007])\n",
      "A9: <function trimf at 0xb488e92c>([18080.600000000006, 18708.800000000007, 19337.000000000007])\n"
     ]
    }
   ],
   "source": [
    "sts = GridPartitionerTrimf(enrollments[\"Enrollments\"],10)\n",
    "for s in sts:\n",
    "    print(s)"
   ]
  },
  {
   "cell_type": "markdown",
   "metadata": {},
   "source": [
    "### Funções Auxiliares"
   ]
  },
  {
   "cell_type": "code",
   "execution_count": 24,
   "metadata": {
    "collapsed": false
   },
   "outputs": [],
   "source": [
    "def rmse(a,b):\n",
    "    return math.sqrt(sum(a-b)**2)/len(a)\n",
    "    "
   ]
  },
  {
   "cell_type": "markdown",
   "metadata": {},
   "source": [
    "# First Order Fuzzy Time Series\n",
    "\n",
    "Os modelos implementados seguem os trabalhos de \\cite{song1993fuzzy} e \\cite{chen1996forecasting}"
   ]
  },
  {
   "cell_type": "markdown",
   "metadata": {},
   "source": [
    "## Fuzzy Logical Relationship Groups - FLRG"
   ]
  },
  {
   "cell_type": "code",
   "execution_count": 12,
   "metadata": {
    "collapsed": true
   },
   "outputs": [],
   "source": [
    "class FLRG:\n",
    "\tdef __init__(self,premiss):\n",
    "\t\tself.premiss = premiss\n",
    "\t\tself.consequent = set()\n",
    "\t\n",
    "\tdef append(self,c):\n",
    "\t\tself.consequent.add(c)\n",
    "\n",
    "\tdef __str__(self):\n",
    "\t\ttmp = self.premiss + \" -> \"\n",
    "\t\ttmp2 = \"\"\n",
    "\t\tfor c in self.consequent:\n",
    "\t\t\tif len(tmp2) > 0:\n",
    "\t\t\t\ttmp2 = tmp2 + \",\"\n",
    "\t\t\ttmp2 = tmp2 + c\n",
    "\t\treturn tmp + tmp2\n"
   ]
  },
  {
   "cell_type": "code",
   "execution_count": 13,
   "metadata": {
    "collapsed": false
   },
   "outputs": [
    {
     "name": "stdout",
     "output_type": "stream",
     "text": [
      "A -> B,C\n"
     ]
    }
   ],
   "source": [
    "flrgx = FLRG(\"A\")\n",
    "flrgx.append(\"B\")\n",
    "flrgx.append(\"C\")\n",
    "print(flrgx)"
   ]
  },
  {
   "cell_type": "markdown",
   "metadata": {},
   "source": [
    "## Classe Principal - FTS"
   ]
  },
  {
   "cell_type": "code",
   "execution_count": 14,
   "metadata": {
    "collapsed": false
   },
   "outputs": [],
   "source": [
    "class FTS:\n",
    "\tdef __init__(self,order):\n",
    "\t\tself.sets = {}\n",
    "\t\tself.flrgs = {}\n",
    "\t\tself.order = order\n",
    "        \n",
    "\tdef fuzzy(self,data):\n",
    "\t\tbest = {\"fuzzyset\":\"\", \"membership\":0.0}\n",
    "\n",
    "\t\tfor f in self.sets:\n",
    "\t\t\tfset = self.sets[f]\n",
    "\t\t\tif best[\"membership\"] <= fset.membership(data):\n",
    "\t\t\t\tbest[\"fuzzyset\"] = fset.name\n",
    "\t\t\t\tbest[\"membership\"] = fset.membership(data)\n",
    "\n",
    "\t\treturn best\n",
    "\t\t\n",
    "\tdef defuzzy(self,data):\n",
    "        \n",
    "\t\tactual = self.fuzzy(data)\n",
    "        \n",
    "\t\tif actual[\"fuzzyset\"] not in self.flrgs:\n",
    "\t\t\treturn self.sets[actual[\"fuzzyset\"]].centroid\n",
    "\n",
    "\t\tflrg = self.flrgs[actual[\"fuzzyset\"]]\n",
    "\n",
    "\t\tcount = 0.0\n",
    "\t\tdenom = 0.0\n",
    "\n",
    "\t\tfor s in flrg.consequent:\n",
    "\t\t\tdenom = denom + self.sets[actual[\"fuzzyset\"]].centroid\n",
    "\t\t\tcount = count + 1.0\n",
    "\n",
    "\t\treturn denom/count\n",
    "        \n",
    "\tdef learn(self, data, sets):\n",
    "\t\tlast = {\"fuzzyset\":\"\", \"membership\":0.0}\n",
    "\t\tactual = {\"fuzzyset\":\"\", \"membership\":0.0}\n",
    "\t\t\n",
    "\t\tfor s in sets:\n",
    "\t\t\tself.sets[s.name] = s\n",
    "\t\t\n",
    "\t\tself.flrgs = {}\n",
    "\t\tcount = 1\n",
    "\t\tfor inst in data:\n",
    "\t\t\tactual = self.fuzzy(inst)\n",
    "\t\t\t\n",
    "\t\t\tif count > self.order:\n",
    "\t\t\t\tif last[\"fuzzyset\"] not in self.flrgs:\n",
    "\t\t\t\t\tself.flrgs[last[\"fuzzyset\"]] = FLRG(last[\"fuzzyset\"])\n",
    "\t\t\t\n",
    "\t\t\t\tself.flrgs[last[\"fuzzyset\"]].append(actual[\"fuzzyset\"])    \n",
    "\t\t\tcount = count + 1\n",
    "\t\t\tlast = actual\n",
    "\tdef predict(self,data):\n",
    "\t\treturn self.defuzzy(data)\n",
    "\tdef __str__(self):\n",
    "\t\ts = \"\"\n",
    "\t\tfor c in self.flrgs:\n",
    "\t\t\ts = s + str(self.flrgs[c]) + \"\\n\"\n",
    "\t\treturn s  \n",
    "\t\n",
    "\tdef plot(self,original):\n",
    "\t\tfig = plt.figure(figsize=[20,6])\n",
    "\t\tpredicted = [self.predict(xx) for xx in original]\n",
    "\t\terror = rmse(original,predicted)\n",
    "\t\tplot(original)\n",
    "\t\tplot(predicted)\n",
    "\t\tret = []\n",
    "\t\tret.append(predicted)\n",
    "\t\tret.append(error)\n",
    "\t\treturn ret"
   ]
  },
  {
   "cell_type": "markdown",
   "metadata": {},
   "source": [
    "## Testes"
   ]
  },
  {
   "cell_type": "code",
   "execution_count": 43,
   "metadata": {
    "collapsed": true
   },
   "outputs": [],
   "source": [
    "def SelecaoSimples_MenorRMSE(original,parameters):\n",
    "\terrors = []\n",
    "\tfig, axs = plt.subplots(nrows=2, ncols=1, sharex=True)\n",
    "\tfig.suptitle(\"Comparação de modelos \")\n",
    "\tfig.set_size_inches(18, 10)\n",
    "\tax0 = axs[0]\n",
    "\tax0.set_title('Série Temporal')\n",
    "\tax0.set_ylabel('F(T)')\n",
    "\tax0.set_xlabel('T')\n",
    "\tax0.plot(original,label=\"Original\")\n",
    "\tmin_rmse = 1000.0\n",
    "\tbest = FTS(1)\n",
    "\tfor p in parameters:\n",
    "\t\tsets = GridPartitionerTrimf(original,p)\n",
    "\t\tfts = FTS(1)\n",
    "\t\tfts.learn(original,sets)\n",
    "\t\tpredicted = [fts.predict(xx) for xx in original]\n",
    "\t\tax0.plot(predicted,label=str(p))\n",
    "\t\terror = rmse(original,predicted)\n",
    "\t\terrors.append(error)\n",
    "\t\tif error < min_rmse:\n",
    "\t\t\tmin_rmse = error\n",
    "\t\t\tbest = fts\n",
    "\thandles0, labels0 = ax0.get_legend_handles_labels()\n",
    "\tax0.legend(handles0, labels0)\n",
    "\tax1 = axs[1]\n",
    "\tax1.set_title('Comparação dos Erros Quadráticos Médios')\n",
    "\tax1.set_ylabel('RMSE')\n",
    "\tax1.set_xlabel('Quantidade de Partições')\n",
    "\tax1.set_xlim([min(parameters),max(parameters)])\n",
    "\tax1.plot(parameters,errors)\n",
    "\treturn best"
   ]
  },
  {
   "cell_type": "code",
   "execution_count": 44,
   "metadata": {
    "collapsed": false
   },
   "outputs": [
    {
     "data": {
      "image/png": "[encoded data removed]",
      "text/plain": [
       "<matplotlib.figure.Figure at 0xab01912c>"
      ]
     },
     "metadata": {},
     "output_type": "display_data"
    }
   ],
   "source": [
    "best = SelecaoSimples_MenorRMSE(enrollments[\"Enrollments\"],[2,4,6,8,10,12])"
   ]
  },
  {
   "cell_type": "code",
   "execution_count": 45,
   "metadata": {
    "collapsed": false
   },
   "outputs": [
    {
     "name": "stdout",
     "output_type": "stream",
     "text": [
      "A3 -> A3,A5,A4\n",
      "A5 -> A4,A6\n",
      "A0 -> A1\n",
      "A4 -> A3,A4,A6\n",
      "A9 -> A9\n",
      "A1 -> A3,A1\n",
      "A8 -> A9\n",
      "A6 -> A5,A8,A6\n",
      "\n"
     ]
    }
   ],
   "source": [
    "print(best)"
   ]
  },
  {
   "cell_type": "markdown",
   "metadata": {},
   "source": [
    "# High Order Fuzzy Time Series\n",
    "\n",
    "Essa implementação segue os trabalho de \\cite{hwang1998handling} e \\cite{chen2014high}"
   ]
  },
  {
   "cell_type": "code",
   "execution_count": null,
   "metadata": {
    "collapsed": true
   },
   "outputs": [],
   "source": [
    "class HighOrderFTS:\n",
    "\tdef __init__(self,order):\n",
    "\t\tself.sets = {}\n",
    "\t\tself.order = order"
   ]
  },
  {
   "cell_type": "code",
   "execution_count": null,
   "metadata": {
    "collapsed": true
   },
   "outputs": [],
   "source": []
  },
  {
   "cell_type": "markdown",
   "metadata": {},
   "source": [
    "# References\n",
    "\n",
    "(<a id=\"cit-song1993fuzzy\" href=\"#call-song1993fuzzy\">Song and Chissom, 1993</a>) Song Qiang and Chissom Brad S, ``_Fuzzy time series and its models_'', Fuzzy sets and systems, vol. 54, number 3, pp. 269--277,  1993.\n",
    "\n",
    "(<a id=\"cit-hwang1998handling\" href=\"#call-hwang1998handling\">Hwang, Chen <em>et al.</em>, 1998</a>) Hwang Jeng-Ren, Chen Shyi-Ming and Lee Chia-Hoang, ``_Handling forecasting problems using fuzzy time series_'', Fuzzy sets and systems, vol. 100, number 1, pp. 217--228,  1998.\n",
    "\n",
    "(<a id=\"cit-chen2014high\" href=\"#call-chen2014high\">Chen, 2014</a>) Chen Mu-Yen, ``_A high-order fuzzy time series forecasting model for internet stock trading_'', Future Generation Computer Systems, vol. 37, number , pp. 461--467,  2014.\n",
    "\n"
   ]
  }
 ],
 "metadata": {
  "kernelspec": {
   "display_name": "Python 3",
   "language": "python",
   "name": "python3"
  },
  "language_info": {
   "codemirror_mode": {
    "name": "ipython",
    "version": 3
   },
   "file_extension": ".py",
   "mimetype": "text/x-python",
   "name": "python",
   "nbconvert_exporter": "python",
   "pygments_lexer": "ipython3",
   "version": "3.4.3+"
  },
  "latex_envs": {
   "bibliofile": "biblio.bib",
   "cite_by": "apalike",
   "current_citInitial": 1,
   "eqLabelWithNumbers": true,
   "eqNumInitial": 0
  }
 },
 "nbformat": 4,
 "nbformat_minor": 0
}
